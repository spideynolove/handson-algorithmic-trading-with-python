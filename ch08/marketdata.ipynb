{
 "cells": [
  {
   "cell_type": "markdown",
   "metadata": {},
   "source": [
    "# yahoofinancials"
   ]
  },
  {
   "cell_type": "code",
   "execution_count": 105,
   "metadata": {},
   "outputs": [],
   "source": [
    "# !pip install yahoofinancials"
   ]
  },
  {
   "cell_type": "code",
   "execution_count": 106,
   "metadata": {},
   "outputs": [],
   "source": [
    "# from yahoofinancials import \n",
    "import yfinance as yf"
   ]
  },
  {
   "cell_type": "markdown",
   "metadata": {},
   "source": [
    "## Single-ticker Retrieval"
   ]
  },
  {
   "cell_type": "code",
   "execution_count": 107,
   "metadata": {},
   "outputs": [],
   "source": [
    "# aapl = YahooFinancials('AAPL')\n",
    "aapl = yf.Ticker(\"AAPL\")"
   ]
  },
  {
   "cell_type": "code",
   "execution_count": 108,
   "metadata": {},
   "outputs": [
    {
     "data": {
      "text/plain": [
       "{'address1': 'One Apple Park Way',\n",
       " 'city': 'Cupertino',\n",
       " 'state': 'CA',\n",
       " 'zip': '95014',\n",
       " 'country': 'United States',\n",
       " 'phone': '(408) 996-1010',\n",
       " 'website': 'https://www.apple.com',\n",
       " 'industry': 'Consumer Electronics',\n",
       " 'industryKey': 'consumer-electronics',\n",
       " 'industryDisp': 'Consumer Electronics',\n",
       " 'sector': 'Technology',\n",
       " 'sectorKey': 'technology',\n",
       " 'sectorDisp': 'Technology',\n",
       " 'longBusinessSummary': 'Apple Inc. designs, manufactures, and markets smartphones, personal computers, tablets, wearables, and accessories worldwide. The company offers iPhone, a line of smartphones; Mac, a line of personal computers; iPad, a line of multi-purpose tablets; and wearables, home, and accessories comprising AirPods, Apple TV, Apple Watch, Beats products, and HomePod. It also provides AppleCare support and cloud services; and operates various platforms, including the App Store that allow customers to discover and download applications and digital content, such as books, music, video, games, and podcasts, as well as advertising services include third-party licensing arrangements and its own advertising platforms. In addition, the company offers various subscription-based services, such as Apple Arcade, a game subscription service; Apple Fitness+, a personalized fitness service; Apple Music, which offers users a curated listening experience with on-demand radio stations; Apple News+, a subscription news and magazine service; Apple TV+, which offers exclusive original content; Apple Card, a co-branded credit card; and Apple Pay, a cashless payment service, as well as licenses its intellectual property. The company serves consumers, and small and mid-sized businesses; and the education, enterprise, and government markets. It distributes third-party applications for its products through the App Store. The company also sells its products through its retail and online stores, and direct sales force; and third-party cellular network carriers, wholesalers, retailers, and resellers. Apple Inc. was founded in 1976 and is headquartered in Cupertino, California.',\n",
       " 'fullTimeEmployees': 164000,\n",
       " 'companyOfficers': [{'maxAge': 1,\n",
       "   'name': 'Mr. Timothy D. Cook',\n",
       "   'age': 62,\n",
       "   'title': 'CEO & Director',\n",
       "   'yearBorn': 1961,\n",
       "   'fiscalYear': 2023,\n",
       "   'totalPay': 16239562,\n",
       "   'exercisedValue': 0,\n",
       "   'unexercisedValue': 0},\n",
       "  {'maxAge': 1,\n",
       "   'name': 'Mr. Luca  Maestri',\n",
       "   'age': 60,\n",
       "   'title': 'CFO & Senior VP',\n",
       "   'yearBorn': 1963,\n",
       "   'fiscalYear': 2023,\n",
       "   'totalPay': 4612242,\n",
       "   'exercisedValue': 0,\n",
       "   'unexercisedValue': 0},\n",
       "  {'maxAge': 1,\n",
       "   'name': 'Mr. Jeffrey E. Williams',\n",
       "   'age': 59,\n",
       "   'title': 'Chief Operating Officer',\n",
       "   'yearBorn': 1964,\n",
       "   'fiscalYear': 2023,\n",
       "   'totalPay': 4637585,\n",
       "   'exercisedValue': 0,\n",
       "   'unexercisedValue': 0},\n",
       "  {'maxAge': 1,\n",
       "   'name': 'Ms. Katherine L. Adams',\n",
       "   'age': 59,\n",
       "   'title': 'Senior VP, General Counsel & Secretary',\n",
       "   'yearBorn': 1964,\n",
       "   'fiscalYear': 2023,\n",
       "   'totalPay': 4618064,\n",
       "   'exercisedValue': 0,\n",
       "   'unexercisedValue': 0},\n",
       "  {'maxAge': 1,\n",
       "   'name': \"Ms. Deirdre  O'Brien\",\n",
       "   'age': 56,\n",
       "   'title': 'Chief People Officer & Senior VP of Retail',\n",
       "   'yearBorn': 1967,\n",
       "   'fiscalYear': 2023,\n",
       "   'totalPay': 4613369,\n",
       "   'exercisedValue': 0,\n",
       "   'unexercisedValue': 0},\n",
       "  {'maxAge': 1,\n",
       "   'name': 'Mr. Chris  Kondo',\n",
       "   'title': 'Senior Director of Corporate Accounting',\n",
       "   'fiscalYear': 2023,\n",
       "   'exercisedValue': 0,\n",
       "   'unexercisedValue': 0},\n",
       "  {'maxAge': 1,\n",
       "   'name': 'Suhasini  Chandramouli',\n",
       "   'title': 'Director of Investor Relations',\n",
       "   'fiscalYear': 2023,\n",
       "   'exercisedValue': 0,\n",
       "   'unexercisedValue': 0},\n",
       "  {'maxAge': 1,\n",
       "   'name': 'Mr. Greg  Joswiak',\n",
       "   'title': 'Senior Vice President of Worldwide Marketing',\n",
       "   'fiscalYear': 2023,\n",
       "   'exercisedValue': 0,\n",
       "   'unexercisedValue': 0},\n",
       "  {'maxAge': 1,\n",
       "   'name': 'Mr. Adrian  Perica',\n",
       "   'age': 49,\n",
       "   'title': 'Head of Corporate Development',\n",
       "   'yearBorn': 1974,\n",
       "   'fiscalYear': 2023,\n",
       "   'exercisedValue': 0,\n",
       "   'unexercisedValue': 0},\n",
       "  {'maxAge': 1,\n",
       "   'name': 'Mr. Michael  Fenger',\n",
       "   'title': 'VP of Worldwide Sales',\n",
       "   'fiscalYear': 2023,\n",
       "   'exercisedValue': 0,\n",
       "   'unexercisedValue': 0}],\n",
       " 'auditRisk': 6,\n",
       " 'boardRisk': 1,\n",
       " 'compensationRisk': 2,\n",
       " 'shareHolderRightsRisk': 1,\n",
       " 'overallRisk': 1,\n",
       " 'governanceEpochDate': 1733011200,\n",
       " 'compensationAsOfEpochDate': 1703980800,\n",
       " 'irWebsite': 'http://investor.apple.com/',\n",
       " 'maxAge': 86400,\n",
       " 'priceHint': 2,\n",
       " 'previousClose': 251.04,\n",
       " 'open': 250.135,\n",
       " 'dayLow': 249.79,\n",
       " 'dayHigh': 252.34,\n",
       " 'regularMarketPreviousClose': 251.04,\n",
       " 'regularMarketOpen': 250.135,\n",
       " 'regularMarketDayLow': 249.79,\n",
       " 'regularMarketDayHigh': 252.34,\n",
       " 'dividendRate': 1.0,\n",
       " 'dividendYield': 0.004,\n",
       " 'exDividendDate': 1731024000,\n",
       " 'payoutRatio': 0.1612,\n",
       " 'fiveYearAvgDividendYield': 0.62,\n",
       " 'beta': 1.24,\n",
       " 'trailingPE': 41.50329,\n",
       " 'forwardPE': 30.358004,\n",
       " 'volume': 3587417,\n",
       " 'regularMarketVolume': 3587417,\n",
       " 'averageVolume': 47390520,\n",
       " 'averageVolume10days': 40451760,\n",
       " 'averageDailyVolume10Day': 40451760,\n",
       " 'bid': 252.22,\n",
       " 'ask': 252.35,\n",
       " 'bidSize': 200,\n",
       " 'askSize': 200,\n",
       " 'marketCap': 3814320766976,\n",
       " 'fiftyTwoWeekLow': 164.08,\n",
       " 'fiftyTwoWeekHigh': 252.34,\n",
       " 'priceToSalesTrailing12Months': 9.754423,\n",
       " 'fiftyDayAverage': 232.8262,\n",
       " 'twoHundredDayAverage': 209.31,\n",
       " 'trailingAnnualDividendRate': 0.98,\n",
       " 'trailingAnnualDividendYield': 0.0039037606,\n",
       " 'currency': 'USD',\n",
       " 'enterpriseValue': 3848564113408,\n",
       " 'profitMargins': 0.23971,\n",
       " 'floatShares': 15091184209,\n",
       " 'sharesOutstanding': 15115799552,\n",
       " 'sharesShort': 154104746,\n",
       " 'sharesShortPriorMonth': 133040194,\n",
       " 'sharesShortPreviousMonthDate': 1730332800,\n",
       " 'dateShortInterest': 1732838400,\n",
       " 'sharesPercentSharesOut': 0.010199999,\n",
       " 'heldPercentInsiders': 0.02056,\n",
       " 'heldPercentInstitutions': 0.61923003,\n",
       " 'shortRatio': 3.41,\n",
       " 'shortPercentOfFloat': 0.010199999,\n",
       " 'impliedSharesOutstanding': 15332100096,\n",
       " 'bookValue': 3.767,\n",
       " 'priceToBook': 66.98699,\n",
       " 'lastFiscalYearEnd': 1727481600,\n",
       " 'nextFiscalYearEnd': 1759017600,\n",
       " 'mostRecentQuarter': 1727481600,\n",
       " 'earningsQuarterlyGrowth': -0.358,\n",
       " 'netIncomeToCommon': 93736001536,\n",
       " 'trailingEps': 6.08,\n",
       " 'forwardEps': 8.31,\n",
       " 'lastSplitFactor': '4:1',\n",
       " 'lastSplitDate': 1598832000,\n",
       " 'enterpriseToRevenue': 9.842,\n",
       " 'enterpriseToEbitda': 28.58,\n",
       " '52WeekChange': 0.2747029,\n",
       " 'SandP52WeekChange': 0.2738273,\n",
       " 'lastDividendValue': 0.25,\n",
       " 'lastDividendDate': 1731024000,\n",
       " 'exchange': 'NMS',\n",
       " 'quoteType': 'EQUITY',\n",
       " 'symbol': 'AAPL',\n",
       " 'underlyingSymbol': 'AAPL',\n",
       " 'shortName': 'Apple Inc.',\n",
       " 'longName': 'Apple Inc.',\n",
       " 'firstTradeDateEpochUtc': 345479400,\n",
       " 'timeZoneFullName': 'America/New_York',\n",
       " 'timeZoneShortName': 'EST',\n",
       " 'uuid': '8b10e4ae-9eeb-3684-921a-9ab27e4d87aa',\n",
       " 'messageBoardId': 'finmb_24937',\n",
       " 'gmtOffSetMilliseconds': -18000000,\n",
       " 'currentPrice': 252.34,\n",
       " 'targetHighPrice': 300.0,\n",
       " 'targetLowPrice': 184.0,\n",
       " 'targetMeanPrice': 245.78214,\n",
       " 'targetMedianPrice': 250.0,\n",
       " 'recommendationMean': 1.89362,\n",
       " 'recommendationKey': 'buy',\n",
       " 'numberOfAnalystOpinions': 42,\n",
       " 'totalCash': 65171001344,\n",
       " 'totalCashPerShare': 4.311,\n",
       " 'ebitda': 134660997120,\n",
       " 'totalDebt': 119058997248,\n",
       " 'quickRatio': 0.745,\n",
       " 'currentRatio': 0.867,\n",
       " 'totalRevenue': 391034994688,\n",
       " 'debtToEquity': 209.059,\n",
       " 'revenuePerShare': 25.485,\n",
       " 'returnOnAssets': 0.21464,\n",
       " 'returnOnEquity': 1.5741299,\n",
       " 'freeCashflow': 110846001152,\n",
       " 'operatingCashflow': 118254002176,\n",
       " 'earningsGrowth': -0.341,\n",
       " 'revenueGrowth': 0.061,\n",
       " 'grossMargins': 0.46206,\n",
       " 'ebitdaMargins': 0.34437,\n",
       " 'operatingMargins': 0.31171,\n",
       " 'financialCurrency': 'USD',\n",
       " 'trailingPegRatio': 2.5938}"
      ]
     },
     "execution_count": 108,
     "metadata": {},
     "output_type": "execute_result"
    }
   ],
   "source": [
    "aapl.info"
   ]
  },
  {
   "cell_type": "code",
   "execution_count": 109,
   "metadata": {},
   "outputs": [
    {
     "data": {
      "text/plain": [
       "{'Dividend Date': datetime.date(2024, 11, 14),\n",
       " 'Ex-Dividend Date': datetime.date(2024, 11, 8),\n",
       " 'Earnings Date': [datetime.date(2025, 1, 31), datetime.date(2025, 2, 4)],\n",
       " 'Earnings High': 2.5,\n",
       " 'Earnings Low': 2.19,\n",
       " 'Earnings Average': 2.35593,\n",
       " 'Revenue High': 129887000000,\n",
       " 'Revenue Low': 119563000000,\n",
       " 'Revenue Average': 124410526290}"
      ]
     },
     "execution_count": 109,
     "metadata": {},
     "output_type": "execute_result"
    }
   ],
   "source": [
    "aapl.calendar"
   ]
  },
  {
   "cell_type": "code",
   "execution_count": 110,
   "metadata": {},
   "outputs": [
    {
     "data": {
      "text/plain": [
       "{'current': 252.34,\n",
       " 'low': 184.0,\n",
       " 'high': 300.0,\n",
       " 'mean': 245.78214,\n",
       " 'median': 250.0}"
      ]
     },
     "execution_count": 110,
     "metadata": {},
     "output_type": "execute_result"
    }
   ],
   "source": [
    "aapl.analyst_price_targets"
   ]
  },
  {
   "cell_type": "code",
   "execution_count": 111,
   "metadata": {},
   "outputs": [
    {
     "data": {
      "text/html": [
       "<div>\n",
       "<style scoped>\n",
       "    .dataframe tbody tr th:only-of-type {\n",
       "        vertical-align: middle;\n",
       "    }\n",
       "\n",
       "    .dataframe tbody tr th {\n",
       "        vertical-align: top;\n",
       "    }\n",
       "\n",
       "    .dataframe thead th {\n",
       "        text-align: right;\n",
       "    }\n",
       "</style>\n",
       "<table border=\"1\" class=\"dataframe\">\n",
       "  <thead>\n",
       "    <tr style=\"text-align: right;\">\n",
       "      <th></th>\n",
       "      <th>2024-09-30</th>\n",
       "      <th>2024-06-30</th>\n",
       "      <th>2024-03-31</th>\n",
       "      <th>2023-12-31</th>\n",
       "      <th>2023-09-30</th>\n",
       "      <th>2023-06-30</th>\n",
       "      <th>2023-03-31</th>\n",
       "    </tr>\n",
       "  </thead>\n",
       "  <tbody>\n",
       "    <tr>\n",
       "      <th>Tax Effect Of Unusual Items</th>\n",
       "      <td>0</td>\n",
       "      <td>0</td>\n",
       "      <td>0</td>\n",
       "      <td>0</td>\n",
       "      <td>0</td>\n",
       "      <td>NaN</td>\n",
       "      <td>NaN</td>\n",
       "    </tr>\n",
       "    <tr>\n",
       "      <th>...</th>\n",
       "      <td>...</td>\n",
       "      <td>...</td>\n",
       "      <td>...</td>\n",
       "      <td>...</td>\n",
       "      <td>...</td>\n",
       "      <td>...</td>\n",
       "      <td>...</td>\n",
       "    </tr>\n",
       "    <tr>\n",
       "      <th>Operating Revenue</th>\n",
       "      <td>94930000000.000000</td>\n",
       "      <td>85777000000.000000</td>\n",
       "      <td>90753000000.000000</td>\n",
       "      <td>119575000000.000000</td>\n",
       "      <td>89498000000.000000</td>\n",
       "      <td>NaN</td>\n",
       "      <td>NaN</td>\n",
       "    </tr>\n",
       "  </tbody>\n",
       "</table>\n",
       "<p>39 rows × 7 columns</p>\n",
       "</div>"
      ],
      "text/plain": [
       "                                    2024-09-30         2024-06-30  \\\n",
       "Tax Effect Of Unusual Items                  0                  0   \n",
       "...                                        ...                ...   \n",
       "Operating Revenue           94930000000.000000 85777000000.000000   \n",
       "\n",
       "                                    2024-03-31          2023-12-31  \\\n",
       "Tax Effect Of Unusual Items                  0                   0   \n",
       "...                                        ...                 ...   \n",
       "Operating Revenue           90753000000.000000 119575000000.000000   \n",
       "\n",
       "                                    2023-09-30 2023-06-30 2023-03-31  \n",
       "Tax Effect Of Unusual Items                  0        NaN        NaN  \n",
       "...                                        ...        ...        ...  \n",
       "Operating Revenue           89498000000.000000        NaN        NaN  \n",
       "\n",
       "[39 rows x 7 columns]"
      ]
     },
     "execution_count": 111,
     "metadata": {},
     "output_type": "execute_result"
    }
   ],
   "source": [
    "aapl.quarterly_income_stmt"
   ]
  },
  {
   "cell_type": "code",
   "execution_count": 112,
   "metadata": {},
   "outputs": [
    {
     "data": {
      "text/html": [
       "<div>\n",
       "<style scoped>\n",
       "    .dataframe tbody tr th:only-of-type {\n",
       "        vertical-align: middle;\n",
       "    }\n",
       "\n",
       "    .dataframe tbody tr th {\n",
       "        vertical-align: top;\n",
       "    }\n",
       "\n",
       "    .dataframe thead th {\n",
       "        text-align: right;\n",
       "    }\n",
       "</style>\n",
       "<table border=\"1\" class=\"dataframe\">\n",
       "  <thead>\n",
       "    <tr style=\"text-align: right;\">\n",
       "      <th></th>\n",
       "      <th>Open</th>\n",
       "      <th>High</th>\n",
       "      <th>Low</th>\n",
       "      <th>Close</th>\n",
       "      <th>Volume</th>\n",
       "      <th>Dividends</th>\n",
       "      <th>Stock Splits</th>\n",
       "    </tr>\n",
       "    <tr>\n",
       "      <th>Date</th>\n",
       "      <th></th>\n",
       "      <th></th>\n",
       "      <th></th>\n",
       "      <th></th>\n",
       "      <th></th>\n",
       "      <th></th>\n",
       "      <th></th>\n",
       "    </tr>\n",
       "  </thead>\n",
       "  <tbody>\n",
       "    <tr>\n",
       "      <th>2024-11-18 00:00:00-05:00</th>\n",
       "      <td>225.250000</td>\n",
       "      <td>229.740005</td>\n",
       "      <td>225.169998</td>\n",
       "      <td>228.020004</td>\n",
       "      <td>44686000</td>\n",
       "      <td>0</td>\n",
       "      <td>0</td>\n",
       "    </tr>\n",
       "    <tr>\n",
       "      <th>...</th>\n",
       "      <td>...</td>\n",
       "      <td>...</td>\n",
       "      <td>...</td>\n",
       "      <td>...</td>\n",
       "      <td>...</td>\n",
       "      <td>...</td>\n",
       "      <td>...</td>\n",
       "    </tr>\n",
       "    <tr>\n",
       "      <th>2024-12-17 00:00:00-05:00</th>\n",
       "      <td>250.134995</td>\n",
       "      <td>252.339996</td>\n",
       "      <td>249.789993</td>\n",
       "      <td>252.339996</td>\n",
       "      <td>3587417</td>\n",
       "      <td>0</td>\n",
       "      <td>0</td>\n",
       "    </tr>\n",
       "  </tbody>\n",
       "</table>\n",
       "<p>21 rows × 7 columns</p>\n",
       "</div>"
      ],
      "text/plain": [
       "                                Open       High        Low      Close  \\\n",
       "Date                                                                    \n",
       "2024-11-18 00:00:00-05:00 225.250000 229.740005 225.169998 228.020004   \n",
       "...                              ...        ...        ...        ...   \n",
       "2024-12-17 00:00:00-05:00 250.134995 252.339996 249.789993 252.339996   \n",
       "\n",
       "                             Volume  Dividends  Stock Splits  \n",
       "Date                                                          \n",
       "2024-11-18 00:00:00-05:00  44686000          0             0  \n",
       "...                             ...        ...           ...  \n",
       "2024-12-17 00:00:00-05:00   3587417          0             0  \n",
       "\n",
       "[21 rows x 7 columns]"
      ]
     },
     "execution_count": 112,
     "metadata": {},
     "output_type": "execute_result"
    }
   ],
   "source": [
    "aapl.history(period='1mo')"
   ]
  },
  {
   "cell_type": "code",
   "execution_count": 113,
   "metadata": {},
   "outputs": [
    {
     "data": {
      "text/html": [
       "<div>\n",
       "<style scoped>\n",
       "    .dataframe tbody tr th:only-of-type {\n",
       "        vertical-align: middle;\n",
       "    }\n",
       "\n",
       "    .dataframe tbody tr th {\n",
       "        vertical-align: top;\n",
       "    }\n",
       "\n",
       "    .dataframe thead th {\n",
       "        text-align: right;\n",
       "    }\n",
       "</style>\n",
       "<table border=\"1\" class=\"dataframe\">\n",
       "  <thead>\n",
       "    <tr style=\"text-align: right;\">\n",
       "      <th></th>\n",
       "      <th>contractSymbol</th>\n",
       "      <th>lastTradeDate</th>\n",
       "      <th>strike</th>\n",
       "      <th>...</th>\n",
       "      <th>inTheMoney</th>\n",
       "      <th>contractSize</th>\n",
       "      <th>currency</th>\n",
       "    </tr>\n",
       "  </thead>\n",
       "  <tbody>\n",
       "    <tr>\n",
       "      <th>0</th>\n",
       "      <td>AAPL241220C00005000</td>\n",
       "      <td>2024-12-10 20:58:31+00:00</td>\n",
       "      <td>5.000000</td>\n",
       "      <td>...</td>\n",
       "      <td>True</td>\n",
       "      <td>REGULAR</td>\n",
       "      <td>USD</td>\n",
       "    </tr>\n",
       "    <tr>\n",
       "      <th>...</th>\n",
       "      <td>...</td>\n",
       "      <td>...</td>\n",
       "      <td>...</td>\n",
       "      <td>...</td>\n",
       "      <td>...</td>\n",
       "      <td>...</td>\n",
       "      <td>...</td>\n",
       "    </tr>\n",
       "    <tr>\n",
       "      <th>80</th>\n",
       "      <td>AAPL241220C00350000</td>\n",
       "      <td>2024-12-16 17:07:10+00:00</td>\n",
       "      <td>350.000000</td>\n",
       "      <td>...</td>\n",
       "      <td>False</td>\n",
       "      <td>REGULAR</td>\n",
       "      <td>USD</td>\n",
       "    </tr>\n",
       "  </tbody>\n",
       "</table>\n",
       "<p>81 rows × 14 columns</p>\n",
       "</div>"
      ],
      "text/plain": [
       "         contractSymbol             lastTradeDate     strike  ...  inTheMoney  \\\n",
       "0   AAPL241220C00005000 2024-12-10 20:58:31+00:00   5.000000  ...        True   \n",
       "..                  ...                       ...        ...  ...         ...   \n",
       "80  AAPL241220C00350000 2024-12-16 17:07:10+00:00 350.000000  ...       False   \n",
       "\n",
       "    contractSize  currency  \n",
       "0        REGULAR       USD  \n",
       "..           ...       ...  \n",
       "80       REGULAR       USD  \n",
       "\n",
       "[81 rows x 14 columns]"
      ]
     },
     "execution_count": 113,
     "metadata": {},
     "output_type": "execute_result"
    }
   ],
   "source": [
    "aapl.option_chain(aapl.options[0]).calls"
   ]
  },
  {
   "cell_type": "markdown",
   "metadata": {},
   "source": [
    "### Historical Data Retrieval"
   ]
  },
  {
   "cell_type": "code",
   "execution_count": 114,
   "metadata": {},
   "outputs": [
    {
     "name": "stdout",
     "output_type": "stream",
     "text": [
      "                                Open       High        Low      Close  \\\n",
      "Date                                                                    \n",
      "2020-01-02 00:00:00-05:00  71.799873  72.856613  71.545387  72.796021   \n",
      "...                              ...        ...        ...        ...   \n",
      "2020-12-30 00:00:00-05:00 132.577600 132.978524 130.445868 130.758789   \n",
      "\n",
      "                              Volume  Dividends  Stock Splits  \n",
      "Date                                                           \n",
      "2020-01-02 00:00:00-05:00  135480400          0             0  \n",
      "...                              ...        ...           ...  \n",
      "2020-12-30 00:00:00-05:00   96452100          0             0  \n",
      "\n",
      "[252 rows x 7 columns]\n"
     ]
    }
   ],
   "source": [
    "hist = aapl.history(start='2020-01-01', end='2020-12-31', interval='1d')\n",
    "print(hist)"
   ]
  },
  {
   "cell_type": "code",
   "execution_count": 115,
   "metadata": {},
   "outputs": [
    {
     "name": "stdout",
     "output_type": "stream",
     "text": [
      "                                Open       High        Low      Close  \\\n",
      "Date                                                                    \n",
      "2020-01-01 00:00:00-05:00  71.799866  72.929314  70.953995  72.320969   \n",
      "...                              ...        ...        ...        ...   \n",
      "2020-12-30 00:00:00-05:00 132.577572 132.978496 128.803051 129.751572   \n",
      "\n",
      "                              Volume  Dividends  Stock Splits  \n",
      "Date                                                           \n",
      "2020-01-01 00:00:00-05:00  509062400          0             0  \n",
      "...                              ...        ...           ...  \n",
      "2020-12-30 00:00:00-05:00  195568700          0             0  \n",
      "\n",
      "[53 rows x 7 columns]\n"
     ]
    }
   ],
   "source": [
    "hist = aapl.history(start='2020-01-01', end='2020-12-31', interval='1wk')\n",
    "print(hist)"
   ]
  },
  {
   "cell_type": "code",
   "execution_count": 116,
   "metadata": {},
   "outputs": [
    {
     "name": "stdout",
     "output_type": "stream",
     "text": [
      "                                Open       High        Low      Close  \\\n",
      "Date                                                                    \n",
      "2020-01-01 00:00:00-05:00  71.799873  79.461213  70.954002  75.016136   \n",
      "...                              ...        ...        ...        ...   \n",
      "2020-12-01 00:00:00-05:00 118.330240 135.716494 117.352385 129.751587   \n",
      "\n",
      "                               Volume  Dividends  Stock Splits  \n",
      "Date                                                            \n",
      "2020-01-01 00:00:00-05:00  2934370400          0             0  \n",
      "...                               ...        ...           ...  \n",
      "2020-12-01 00:00:00-05:00  2322189600          0             0  \n",
      "\n",
      "[12 rows x 7 columns]\n"
     ]
    }
   ],
   "source": [
    "hist = aapl.history(start='2020-01-01', end='2020-12-31', interval='1mo')\n",
    "print(hist)"
   ]
  },
  {
   "cell_type": "code",
   "execution_count": 117,
   "metadata": {},
   "outputs": [
    {
     "data": {
      "text/plain": [
       "(pandas.core.frame.DataFrame, pandas.core.indexes.datetimes.DatetimeIndex)"
      ]
     },
     "execution_count": 117,
     "metadata": {},
     "output_type": "execute_result"
    }
   ],
   "source": [
    "type(hist), type(hist.index)"
   ]
  },
  {
   "cell_type": "code",
   "execution_count": 118,
   "metadata": {},
   "outputs": [
    {
     "data": {
      "text/html": [
       "<div>\n",
       "<style scoped>\n",
       "    .dataframe tbody tr th:only-of-type {\n",
       "        vertical-align: middle;\n",
       "    }\n",
       "\n",
       "    .dataframe tbody tr th {\n",
       "        vertical-align: top;\n",
       "    }\n",
       "\n",
       "    .dataframe thead th {\n",
       "        text-align: right;\n",
       "    }\n",
       "</style>\n",
       "<table border=\"1\" class=\"dataframe\">\n",
       "  <thead>\n",
       "    <tr style=\"text-align: right;\">\n",
       "      <th></th>\n",
       "      <th>Open</th>\n",
       "      <th>High</th>\n",
       "      <th>Low</th>\n",
       "      <th>Close</th>\n",
       "      <th>Volume</th>\n",
       "      <th>Dividends</th>\n",
       "      <th>Stock Splits</th>\n",
       "    </tr>\n",
       "    <tr>\n",
       "      <th>Date</th>\n",
       "      <th></th>\n",
       "      <th></th>\n",
       "      <th></th>\n",
       "      <th></th>\n",
       "      <th></th>\n",
       "      <th></th>\n",
       "      <th></th>\n",
       "    </tr>\n",
       "  </thead>\n",
       "  <tbody>\n",
       "    <tr>\n",
       "      <th>2020-01-01</th>\n",
       "      <td>71.799873</td>\n",
       "      <td>79.461213</td>\n",
       "      <td>70.954002</td>\n",
       "      <td>75.016136</td>\n",
       "      <td>2934370400</td>\n",
       "      <td>0</td>\n",
       "      <td>0</td>\n",
       "    </tr>\n",
       "    <tr>\n",
       "      <th>...</th>\n",
       "      <td>...</td>\n",
       "      <td>...</td>\n",
       "      <td>...</td>\n",
       "      <td>...</td>\n",
       "      <td>...</td>\n",
       "      <td>...</td>\n",
       "      <td>...</td>\n",
       "    </tr>\n",
       "    <tr>\n",
       "      <th>2020-12-01</th>\n",
       "      <td>118.330240</td>\n",
       "      <td>135.716494</td>\n",
       "      <td>117.352385</td>\n",
       "      <td>129.751587</td>\n",
       "      <td>2322189600</td>\n",
       "      <td>0</td>\n",
       "      <td>0</td>\n",
       "    </tr>\n",
       "  </tbody>\n",
       "</table>\n",
       "<p>12 rows × 7 columns</p>\n",
       "</div>"
      ],
      "text/plain": [
       "                 Open       High        Low      Close      Volume  Dividends  \\\n",
       "Date                                                                            \n",
       "2020-01-01  71.799873  79.461213  70.954002  75.016136  2934370400          0   \n",
       "...               ...        ...        ...        ...         ...        ...   \n",
       "2020-12-01 118.330240 135.716494 117.352385 129.751587  2322189600          0   \n",
       "\n",
       "            Stock Splits  \n",
       "Date                      \n",
       "2020-01-01             0  \n",
       "...                  ...  \n",
       "2020-12-01             0  \n",
       "\n",
       "[12 rows x 7 columns]"
      ]
     },
     "execution_count": 118,
     "metadata": {},
     "output_type": "execute_result"
    }
   ],
   "source": [
    "import pandas as pd\n",
    "pd.set_option('display.max_columns', 7)\n",
    "\n",
    "hist.index = hist.index.strftime('%Y-%m-%d')\n",
    "hist"
   ]
  },
  {
   "cell_type": "markdown",
   "metadata": {},
   "source": [
    "### Real-time Data Retrieval"
   ]
  },
  {
   "cell_type": "code",
   "execution_count": 119,
   "metadata": {},
   "outputs": [
    {
     "data": {
      "text/plain": [
       "252.34"
      ]
     },
     "execution_count": 119,
     "metadata": {},
     "output_type": "execute_result"
    }
   ],
   "source": [
    "# print(aapl.get_stock_price_data())\n",
    "current_price = aapl.info['currentPrice']\n",
    "current_price"
   ]
  },
  {
   "cell_type": "markdown",
   "metadata": {},
   "source": [
    "### Financial Statements Retrieval"
   ]
  },
  {
   "cell_type": "code",
   "execution_count": 120,
   "metadata": {},
   "outputs": [
    {
     "data": {
      "text/html": [
       "<div>\n",
       "<style scoped>\n",
       "    .dataframe tbody tr th:only-of-type {\n",
       "        vertical-align: middle;\n",
       "    }\n",
       "\n",
       "    .dataframe tbody tr th {\n",
       "        vertical-align: top;\n",
       "    }\n",
       "\n",
       "    .dataframe thead th {\n",
       "        text-align: right;\n",
       "    }\n",
       "</style>\n",
       "<table border=\"1\" class=\"dataframe\">\n",
       "  <thead>\n",
       "    <tr style=\"text-align: right;\">\n",
       "      <th></th>\n",
       "      <th>2024-09-30</th>\n",
       "      <th>2023-09-30</th>\n",
       "      <th>2022-09-30</th>\n",
       "      <th>2021-09-30</th>\n",
       "      <th>2020-09-30</th>\n",
       "    </tr>\n",
       "  </thead>\n",
       "  <tbody>\n",
       "    <tr>\n",
       "      <th>FreeCashFlow</th>\n",
       "      <td>108807000000.000000</td>\n",
       "      <td>99584000000.000000</td>\n",
       "      <td>111443000000.000000</td>\n",
       "      <td>92953000000.000000</td>\n",
       "      <td>NaN</td>\n",
       "    </tr>\n",
       "    <tr>\n",
       "      <th>...</th>\n",
       "      <td>...</td>\n",
       "      <td>...</td>\n",
       "      <td>...</td>\n",
       "      <td>...</td>\n",
       "      <td>...</td>\n",
       "    </tr>\n",
       "    <tr>\n",
       "      <th>NetIncomeFromContinuingOperations</th>\n",
       "      <td>93736000000.000000</td>\n",
       "      <td>96995000000.000000</td>\n",
       "      <td>99803000000.000000</td>\n",
       "      <td>94680000000.000000</td>\n",
       "      <td>NaN</td>\n",
       "    </tr>\n",
       "  </tbody>\n",
       "</table>\n",
       "<p>53 rows × 5 columns</p>\n",
       "</div>"
      ],
      "text/plain": [
       "                                           2024-09-30         2023-09-30  \\\n",
       "FreeCashFlow                      108807000000.000000 99584000000.000000   \n",
       "...                                               ...                ...   \n",
       "NetIncomeFromContinuingOperations  93736000000.000000 96995000000.000000   \n",
       "\n",
       "                                           2022-09-30         2021-09-30  \\\n",
       "FreeCashFlow                      111443000000.000000 92953000000.000000   \n",
       "...                                               ...                ...   \n",
       "NetIncomeFromContinuingOperations  99803000000.000000 94680000000.000000   \n",
       "\n",
       "                                  2020-09-30  \n",
       "FreeCashFlow                             NaN  \n",
       "...                                      ...  \n",
       "NetIncomeFromContinuingOperations        NaN  \n",
       "\n",
       "[53 rows x 5 columns]"
      ]
     },
     "execution_count": 120,
     "metadata": {},
     "output_type": "execute_result"
    }
   ],
   "source": [
    "aapl.get_cashflow()\n",
    "\n",
    "# ('quarterly', ['income', 'cash', 'balance'])\n",
    "# print(statements)"
   ]
  },
  {
   "cell_type": "code",
   "execution_count": 121,
   "metadata": {},
   "outputs": [
    {
     "data": {
      "text/html": [
       "<div>\n",
       "<style scoped>\n",
       "    .dataframe tbody tr th:only-of-type {\n",
       "        vertical-align: middle;\n",
       "    }\n",
       "\n",
       "    .dataframe tbody tr th {\n",
       "        vertical-align: top;\n",
       "    }\n",
       "\n",
       "    .dataframe thead th {\n",
       "        text-align: right;\n",
       "    }\n",
       "</style>\n",
       "<table border=\"1\" class=\"dataframe\">\n",
       "  <thead>\n",
       "    <tr style=\"text-align: right;\">\n",
       "      <th></th>\n",
       "      <th>2024-09-30</th>\n",
       "      <th>2023-09-30</th>\n",
       "      <th>2022-09-30</th>\n",
       "      <th>2021-09-30</th>\n",
       "      <th>2020-09-30</th>\n",
       "    </tr>\n",
       "  </thead>\n",
       "  <tbody>\n",
       "    <tr>\n",
       "      <th>TreasurySharesNumber</th>\n",
       "      <td>NaN</td>\n",
       "      <td>0</td>\n",
       "      <td>NaN</td>\n",
       "      <td>NaN</td>\n",
       "      <td>NaN</td>\n",
       "    </tr>\n",
       "    <tr>\n",
       "      <th>...</th>\n",
       "      <td>...</td>\n",
       "      <td>...</td>\n",
       "      <td>...</td>\n",
       "      <td>...</td>\n",
       "      <td>...</td>\n",
       "    </tr>\n",
       "    <tr>\n",
       "      <th>CashFinancial</th>\n",
       "      <td>27199000000.000000</td>\n",
       "      <td>28359000000.000000</td>\n",
       "      <td>18546000000.000000</td>\n",
       "      <td>17305000000.000000</td>\n",
       "      <td>NaN</td>\n",
       "    </tr>\n",
       "  </tbody>\n",
       "</table>\n",
       "<p>68 rows × 5 columns</p>\n",
       "</div>"
      ],
      "text/plain": [
       "                             2024-09-30         2023-09-30         2022-09-30  \\\n",
       "TreasurySharesNumber                NaN                  0                NaN   \n",
       "...                                 ...                ...                ...   \n",
       "CashFinancial        27199000000.000000 28359000000.000000 18546000000.000000   \n",
       "\n",
       "                             2021-09-30 2020-09-30  \n",
       "TreasurySharesNumber                NaN        NaN  \n",
       "...                                 ...        ...  \n",
       "CashFinancial        17305000000.000000        NaN  \n",
       "\n",
       "[68 rows x 5 columns]"
      ]
     },
     "execution_count": 121,
     "metadata": {},
     "output_type": "execute_result"
    }
   ],
   "source": [
    "aapl.get_balance_sheet()\n"
   ]
  },
  {
   "cell_type": "markdown",
   "metadata": {},
   "source": [
    "### Summary Data Retrieval"
   ]
  },
  {
   "cell_type": "code",
   "execution_count": 122,
   "metadata": {},
   "outputs": [
    {
     "name": "stdout",
     "output_type": "stream",
     "text": [
      "   period  strongBuy  buy  hold  sell  strongSell\n",
      "0      0m          8   24    12     1           2\n",
      "..    ...        ...  ...   ...   ...         ...\n",
      "3     -3m          8   24    12     0           2\n",
      "\n",
      "[4 rows x 6 columns]\n"
     ]
    }
   ],
   "source": [
    "print(aapl.get_recommendations_summary())"
   ]
  },
  {
   "cell_type": "markdown",
   "metadata": {},
   "source": [
    "## Multiple-tickers Retrieval"
   ]
  },
  {
   "cell_type": "markdown",
   "metadata": {},
   "source": [
    "## Historical Data Retrieval"
   ]
  },
  {
   "cell_type": "code",
   "execution_count": 123,
   "metadata": {},
   "outputs": [
    {
     "name": "stderr",
     "output_type": "stream",
     "text": [
      "[*********************100%***********************]  3 of 3 completed\n"
     ]
    }
   ],
   "source": [
    "currencies_dl = yf.download(['EURCHF=X', 'USDEUR=X', 'GBPUSD=X'], interval='1wk')\n",
    "currencies_dl.to_csv('data/currencies.csv')"
   ]
  },
  {
   "cell_type": "code",
   "execution_count": 124,
   "metadata": {},
   "outputs": [
    {
     "name": "stderr",
     "output_type": "stream",
     "text": [
      "[*********************100%***********************]  3 of 3 completed\n"
     ]
    },
    {
     "data": {
      "text/html": [
       "<div>\n",
       "<style scoped>\n",
       "    .dataframe tbody tr th:only-of-type {\n",
       "        vertical-align: middle;\n",
       "    }\n",
       "\n",
       "    .dataframe tbody tr th {\n",
       "        vertical-align: top;\n",
       "    }\n",
       "\n",
       "    .dataframe thead tr th {\n",
       "        text-align: left;\n",
       "    }\n",
       "\n",
       "    .dataframe thead tr:last-of-type th {\n",
       "        text-align: right;\n",
       "    }\n",
       "</style>\n",
       "<table border=\"1\" class=\"dataframe\">\n",
       "  <thead>\n",
       "    <tr>\n",
       "      <th>Price</th>\n",
       "      <th colspan=\"3\" halign=\"left\">Close</th>\n",
       "      <th>...</th>\n",
       "      <th colspan=\"3\" halign=\"left\">Volume</th>\n",
       "    </tr>\n",
       "    <tr>\n",
       "      <th>Ticker</th>\n",
       "      <th>EURCHF=X</th>\n",
       "      <th>GBPUSD=X</th>\n",
       "      <th>USDEUR=X</th>\n",
       "      <th>...</th>\n",
       "      <th>EURCHF=X</th>\n",
       "      <th>GBPUSD=X</th>\n",
       "      <th>USDEUR=X</th>\n",
       "    </tr>\n",
       "    <tr>\n",
       "      <th>Date</th>\n",
       "      <th></th>\n",
       "      <th></th>\n",
       "      <th></th>\n",
       "      <th></th>\n",
       "      <th></th>\n",
       "      <th></th>\n",
       "      <th></th>\n",
       "    </tr>\n",
       "  </thead>\n",
       "  <tbody>\n",
       "    <tr>\n",
       "      <th>2020-12-02 00:00:00+00:00</th>\n",
       "      <td>1.078810</td>\n",
       "      <td>1.335738</td>\n",
       "      <td>0.825550</td>\n",
       "      <td>...</td>\n",
       "      <td>0</td>\n",
       "      <td>0</td>\n",
       "      <td>0</td>\n",
       "    </tr>\n",
       "    <tr>\n",
       "      <th>...</th>\n",
       "      <td>...</td>\n",
       "      <td>...</td>\n",
       "      <td>...</td>\n",
       "      <td>...</td>\n",
       "      <td>...</td>\n",
       "      <td>...</td>\n",
       "      <td>...</td>\n",
       "    </tr>\n",
       "    <tr>\n",
       "      <th>2020-12-30 00:00:00+00:00</th>\n",
       "      <td>1.074100</td>\n",
       "      <td>1.363066</td>\n",
       "      <td>0.813015</td>\n",
       "      <td>...</td>\n",
       "      <td>0</td>\n",
       "      <td>0</td>\n",
       "      <td>0</td>\n",
       "    </tr>\n",
       "  </tbody>\n",
       "</table>\n",
       "<p>5 rows × 21 columns</p>\n",
       "</div>"
      ],
      "text/plain": [
       "Price                        Close                    ...   Volume           \\\n",
       "Ticker                    EURCHF=X GBPUSD=X USDEUR=X  ... EURCHF=X GBPUSD=X   \n",
       "Date                                                  ...                     \n",
       "2020-12-02 00:00:00+00:00 1.078810 1.335738 0.825550  ...        0        0   \n",
       "...                            ...      ...      ...  ...      ...      ...   \n",
       "2020-12-30 00:00:00+00:00 1.074100 1.363066 0.813015  ...        0        0   \n",
       "\n",
       "Price                               \n",
       "Ticker                    USDEUR=X  \n",
       "Date                                \n",
       "2020-12-02 00:00:00+00:00        0  \n",
       "...                            ...  \n",
       "2020-12-30 00:00:00+00:00        0  \n",
       "\n",
       "[5 rows x 21 columns]"
      ]
     },
     "execution_count": 124,
     "metadata": {},
     "output_type": "execute_result"
    }
   ],
   "source": [
    "currencies = yf.Tickers(\"EURCHF=X USDEUR=X GBPUSD=X\")\n",
    "\n",
    "# print(currencies.get_historical_price_data('2020-01-01','2020-12-31', 'weekly'))\n",
    "historical_data = currencies.history(\n",
    "    start=\"2020-01-01\",\n",
    "    end=\"2020-12-31\",\n",
    "    interval=\"1wk\"\n",
    ")\n",
    "historical_data.tail()"
   ]
  },
  {
   "cell_type": "code",
   "execution_count": 125,
   "metadata": {},
   "outputs": [
    {
     "data": {
      "text/plain": [
       "Index(['EC_AdjClose', 'GU_AdjClose', 'UE_AdjClose', 'EC_Close', 'GU_Close',\n",
       "       'UE_Close', 'EC_High', 'GU_High', 'UE_High', 'EC_Low', 'GU_Low',\n",
       "       'UE_Low', 'EC_Open', 'GU_Open', 'UE_Open', 'EC_Volume', 'GU_Volume',\n",
       "       'UE_Volume'],\n",
       "      dtype='object')"
      ]
     },
     "execution_count": 125,
     "metadata": {},
     "output_type": "execute_result"
    }
   ],
   "source": [
    "columns = (\n",
    "    'EC_AdjClose', 'GU_AdjClose', 'UE_AdjClose', 'EC_Close', 'GU_Close', 'UE_Close',\n",
    "    'EC_High', 'GU_High', 'UE_High', 'EC_Low', 'GU_Low', 'UE_Low',\n",
    "    'EC_Open', 'GU_Open', 'UE_Open', 'EC_Volume', 'GU_Volume', 'UE_Volume',\n",
    "\n",
    ")\n",
    "df = pd.read_csv('data/currencies.csv', skiprows=3, index_col=0, parse_dates=True, names=columns)\n",
    "df.columns"
   ]
  },
  {
   "cell_type": "code",
   "execution_count": 126,
   "metadata": {},
   "outputs": [
    {
     "data": {
      "text/html": [
       "<div>\n",
       "<style scoped>\n",
       "    .dataframe tbody tr th:only-of-type {\n",
       "        vertical-align: middle;\n",
       "    }\n",
       "\n",
       "    .dataframe tbody tr th {\n",
       "        vertical-align: top;\n",
       "    }\n",
       "\n",
       "    .dataframe thead th {\n",
       "        text-align: right;\n",
       "    }\n",
       "</style>\n",
       "<table border=\"1\" class=\"dataframe\">\n",
       "  <thead>\n",
       "    <tr style=\"text-align: right;\">\n",
       "      <th></th>\n",
       "      <th>EC_AdjClose</th>\n",
       "      <th>GU_AdjClose</th>\n",
       "      <th>UE_AdjClose</th>\n",
       "      <th>...</th>\n",
       "      <th>EC_Volume</th>\n",
       "      <th>GU_Volume</th>\n",
       "      <th>UE_Volume</th>\n",
       "    </tr>\n",
       "  </thead>\n",
       "  <tbody>\n",
       "    <tr>\n",
       "      <th>2020-11-30 00:00:00+00:00</th>\n",
       "      <td>1.081100</td>\n",
       "      <td>1.344100</td>\n",
       "      <td>0.824783</td>\n",
       "      <td>...</td>\n",
       "      <td>0</td>\n",
       "      <td>0</td>\n",
       "      <td>0</td>\n",
       "    </tr>\n",
       "    <tr>\n",
       "      <th>...</th>\n",
       "      <td>...</td>\n",
       "      <td>...</td>\n",
       "      <td>...</td>\n",
       "      <td>...</td>\n",
       "      <td>...</td>\n",
       "      <td>...</td>\n",
       "      <td>...</td>\n",
       "    </tr>\n",
       "    <tr>\n",
       "      <th>2020-12-28 00:00:00+00:00</th>\n",
       "      <td>1.079100</td>\n",
       "      <td>1.367400</td>\n",
       "      <td>0.823723</td>\n",
       "      <td>...</td>\n",
       "      <td>0</td>\n",
       "      <td>0</td>\n",
       "      <td>0</td>\n",
       "    </tr>\n",
       "  </tbody>\n",
       "</table>\n",
       "<p>5 rows × 18 columns</p>\n",
       "</div>"
      ],
      "text/plain": [
       "                           EC_AdjClose  GU_AdjClose  UE_AdjClose  ...  \\\n",
       "2020-11-30 00:00:00+00:00     1.081100     1.344100     0.824783  ...   \n",
       "...                                ...          ...          ...  ...   \n",
       "2020-12-28 00:00:00+00:00     1.079100     1.367400     0.823723  ...   \n",
       "\n",
       "                           EC_Volume  GU_Volume  UE_Volume  \n",
       "2020-11-30 00:00:00+00:00          0          0          0  \n",
       "...                              ...        ...        ...  \n",
       "2020-12-28 00:00:00+00:00          0          0          0  \n",
       "\n",
       "[5 rows x 18 columns]"
      ]
     },
     "execution_count": 126,
     "metadata": {},
     "output_type": "execute_result"
    }
   ],
   "source": [
    "df.loc['2020'].tail()"
   ]
  },
  {
   "cell_type": "markdown",
   "metadata": {},
   "source": [
    "# pandas_datareader"
   ]
  },
  {
   "cell_type": "code",
   "execution_count": 127,
   "metadata": {},
   "outputs": [],
   "source": [
    "from pandas_datareader import data\n",
    "start_date = '2010-01-01'\n",
    "end_date = '2020-12-31'"
   ]
  },
  {
   "cell_type": "markdown",
   "metadata": {},
   "source": [
    "## Access to Yahoo Finance"
   ]
  },
  {
   "cell_type": "markdown",
   "metadata": {},
   "source": [
    "The Yahoo Finance API has undergone changes over the years that have made the pandas_datareader method less reliable."
   ]
  },
  {
   "cell_type": "code",
   "execution_count": 128,
   "metadata": {},
   "outputs": [],
   "source": [
    "# aapl = data.DataReader('AAPL', 'yahoo', start_date, end_date)\n",
    "# aapl"
   ]
  },
  {
   "cell_type": "markdown",
   "metadata": {},
   "source": [
    "## Access to [EconDB](https://www.econdb.com/main-indicators?country=US&freq=Q&tab=country-profile)"
   ]
  },
  {
   "cell_type": "markdown",
   "metadata": {},
   "source": [
    "Data will be crawled later"
   ]
  },
  {
   "cell_type": "code",
   "execution_count": 129,
   "metadata": {},
   "outputs": [],
   "source": [
    "# oilprodus = data.DataReader('ticker=OILPRODUS', 'econdb', start_date, end_date)\n",
    "# oilprodus"
   ]
  },
  {
   "cell_type": "markdown",
   "metadata": {},
   "source": [
    "## Access to Fed's Fred"
   ]
  },
  {
   "cell_type": "markdown",
   "metadata": {},
   "source": [
    "Still ok"
   ]
  },
  {
   "cell_type": "code",
   "execution_count": 130,
   "metadata": {},
   "outputs": [
    {
     "data": {
      "text/html": [
       "<div>\n",
       "<style scoped>\n",
       "    .dataframe tbody tr th:only-of-type {\n",
       "        vertical-align: middle;\n",
       "    }\n",
       "\n",
       "    .dataframe tbody tr th {\n",
       "        vertical-align: top;\n",
       "    }\n",
       "\n",
       "    .dataframe thead th {\n",
       "        text-align: right;\n",
       "    }\n",
       "</style>\n",
       "<table border=\"1\" class=\"dataframe\">\n",
       "  <thead>\n",
       "    <tr style=\"text-align: right;\">\n",
       "      <th></th>\n",
       "      <th>GDP</th>\n",
       "    </tr>\n",
       "    <tr>\n",
       "      <th>DATE</th>\n",
       "      <th></th>\n",
       "    </tr>\n",
       "  </thead>\n",
       "  <tbody>\n",
       "    <tr>\n",
       "      <th>2010-01-01</th>\n",
       "      <td>14764.610000</td>\n",
       "    </tr>\n",
       "    <tr>\n",
       "      <th>...</th>\n",
       "      <td>...</td>\n",
       "    </tr>\n",
       "    <tr>\n",
       "      <th>2020-10-01</th>\n",
       "      <td>22068.767000</td>\n",
       "    </tr>\n",
       "  </tbody>\n",
       "</table>\n",
       "<p>44 rows × 1 columns</p>\n",
       "</div>"
      ],
      "text/plain": [
       "                    GDP\n",
       "DATE                   \n",
       "2010-01-01 14764.610000\n",
       "...                 ...\n",
       "2020-10-01 22068.767000\n",
       "\n",
       "[44 rows x 1 columns]"
      ]
     },
     "execution_count": 130,
     "metadata": {},
     "output_type": "execute_result"
    }
   ],
   "source": [
    "import pandas as pd\n",
    "pd.set_option('display.max_rows', 2)\n",
    "\n",
    "gdp = data.DataReader('GDP', 'fred', start_date, end_date)\n",
    "gdp"
   ]
  },
  {
   "cell_type": "code",
   "execution_count": 131,
   "metadata": {},
   "outputs": [
    {
     "data": {
      "text/html": [
       "<div>\n",
       "<style scoped>\n",
       "    .dataframe tbody tr th:only-of-type {\n",
       "        vertical-align: middle;\n",
       "    }\n",
       "\n",
       "    .dataframe tbody tr th {\n",
       "        vertical-align: top;\n",
       "    }\n",
       "\n",
       "    .dataframe thead th {\n",
       "        text-align: right;\n",
       "    }\n",
       "</style>\n",
       "<table border=\"1\" class=\"dataframe\">\n",
       "  <thead>\n",
       "    <tr style=\"text-align: right;\">\n",
       "      <th></th>\n",
       "      <th>GS20</th>\n",
       "    </tr>\n",
       "    <tr>\n",
       "      <th>DATE</th>\n",
       "      <th></th>\n",
       "    </tr>\n",
       "  </thead>\n",
       "  <tbody>\n",
       "    <tr>\n",
       "      <th>2020-01-01</th>\n",
       "      <td>2.070000</td>\n",
       "    </tr>\n",
       "    <tr>\n",
       "      <th>...</th>\n",
       "      <td>...</td>\n",
       "    </tr>\n",
       "    <tr>\n",
       "      <th>2024-11-01</th>\n",
       "      <td>4.630000</td>\n",
       "    </tr>\n",
       "  </tbody>\n",
       "</table>\n",
       "<p>59 rows × 1 columns</p>\n",
       "</div>"
      ],
      "text/plain": [
       "               GS20\n",
       "DATE               \n",
       "2020-01-01 2.070000\n",
       "...             ...\n",
       "2024-11-01 4.630000\n",
       "\n",
       "[59 rows x 1 columns]"
      ]
     },
     "execution_count": 131,
     "metadata": {},
     "output_type": "execute_result"
    }
   ],
   "source": [
    "gs10 = data.get_data_fred('GS20')\n",
    "gs10"
   ]
  },
  {
   "cell_type": "markdown",
   "metadata": {},
   "source": [
    "## Caching Queries"
   ]
  },
  {
   "cell_type": "code",
   "execution_count": 132,
   "metadata": {},
   "outputs": [],
   "source": [
    "# !pip install requests-cache"
   ]
  },
  {
   "cell_type": "code",
   "execution_count": 133,
   "metadata": {},
   "outputs": [],
   "source": [
    "# yfinance handles caching automatically, so you don't need the requests_cache setup\n",
    "\n",
    "# import datetime\n",
    "# import requests_cache\n",
    "# session = requests_cache.CachedSession(cache_name='cache', backend='sqlite', expire_after=datetime.timedelta(days=7))\n",
    "\n",
    "# aapl_full_history = data.DataReader(\"AAPL\", 'yahoo', datetime.datetime(1980, 1, 1), datetime.datetime(2020, 12, 31), session=session)\n",
    "# aapl_full_history"
   ]
  },
  {
   "cell_type": "code",
   "execution_count": 134,
   "metadata": {},
   "outputs": [],
   "source": [
    "# aapl_full_history.loc['2013-01-07']"
   ]
  },
  {
   "cell_type": "markdown",
   "metadata": {},
   "source": [
    "# Quandl"
   ]
  },
  {
   "cell_type": "markdown",
   "metadata": {},
   "source": [
    "no paid data"
   ]
  },
  {
   "cell_type": "code",
   "execution_count": 135,
   "metadata": {},
   "outputs": [],
   "source": [
    "# import quandl\n",
    "# import os\n",
    "\n",
    "# quandl.ApiConfig.api_key = os.environ[\"QUANDL_API_KEY\"]"
   ]
  },
  {
   "cell_type": "code",
   "execution_count": 136,
   "metadata": {},
   "outputs": [],
   "source": [
    "# papple = quandl.get('ODA/PAPPLE_USD')\n",
    "# papple"
   ]
  },
  {
   "cell_type": "code",
   "execution_count": 137,
   "metadata": {},
   "outputs": [],
   "source": [
    "# aapl_fundamental_data = quandl.get_table('ZACKS/FC', ticker='AAPL')\n",
    "# aapl_fundamental_data"
   ]
  },
  {
   "cell_type": "markdown",
   "metadata": {},
   "source": [
    "# IEX Cloud"
   ]
  },
  {
   "cell_type": "markdown",
   "metadata": {},
   "source": [
    "another paid data source"
   ]
  },
  {
   "cell_type": "code",
   "execution_count": 138,
   "metadata": {},
   "outputs": [],
   "source": [
    "# from iexfinance.refdata import get_symbols\n",
    "# get_symbols(output_format='pandas', token=os.environ[\"IEX_TOKEN\"])"
   ]
  },
  {
   "cell_type": "code",
   "execution_count": 139,
   "metadata": {},
   "outputs": [],
   "source": [
    "# from iexfinance.stocks import Stock\n",
    "# aapl = Stock(\"aapl\", token=os.environ[\"IEX_TOKEN\"])\n",
    "# aapl.get_balance_sheet()"
   ]
  },
  {
   "cell_type": "code",
   "execution_count": 140,
   "metadata": {},
   "outputs": [],
   "source": [
    "# from iexfinance.stocks import get_sector_performance\n",
    "# get_sector_performance(output_format='pandas', token=os.environ[\"IEX_TOKEN\"])"
   ]
  },
  {
   "cell_type": "code",
   "execution_count": 141,
   "metadata": {},
   "outputs": [],
   "source": [
    "# aapl.get_price()"
   ]
  },
  {
   "cell_type": "code",
   "execution_count": 142,
   "metadata": {},
   "outputs": [],
   "source": [
    "# from iexfinance.stocks import get_historical_data\n",
    "\n",
    "# get_historical_data(\"AAPL\", start=\"20190101\", end=\"20200101\",output_format='pandas', token=os.environ[\"IEX_TOKEN\"])"
   ]
  },
  {
   "cell_type": "markdown",
   "metadata": {},
   "source": [
    "# MarketStack"
   ]
  },
  {
   "cell_type": "markdown",
   "metadata": {},
   "source": [
    "another paid data source"
   ]
  },
  {
   "cell_type": "code",
   "execution_count": 143,
   "metadata": {},
   "outputs": [],
   "source": [
    "# import requests\n",
    "# import os\n",
    "\n",
    "# params = {\n",
    "#   'access_key': os.environ['MarketStack_Access_Key']\n",
    "# }\n",
    "\n",
    "# api_result = requests.get('http://api.marketstack.com/v1/tickers/aapl/eod', params)\n",
    "\n",
    "# api_response = api_result.json()\n",
    "# print(f\"Symbol = {api_response['data']['symbol']}\")\n",
    "# for eod in api_response['data']['eod']:\n",
    "#     print(f\"{eod['date']}: {eod['adj_close']}\")\n"
   ]
  },
  {
   "cell_type": "code",
   "execution_count": 144,
   "metadata": {},
   "outputs": [],
   "source": [
    "# api_result = requests.get('http://api.marketstack.com/v1/exchanges/XNAS/tickers', params)\n",
    "\n",
    "# api_response = api_result.json()\n",
    "\n",
    "# print(f\"Exchange Name = {api_response['data']['name']}\")\n",
    "# for ticker in api_response['data']['tickers']:\n",
    "#     print(f\"{ticker['name']}: {ticker['symbol']}\")"
   ]
  },
  {
   "cell_type": "code",
   "execution_count": null,
   "metadata": {},
   "outputs": [],
   "source": []
  }
 ],
 "metadata": {
  "kernelspec": {
   "display_name": "artificial-intelligence-Sl7vqf1g",
   "language": "python",
   "name": "python3"
  },
  "language_info": {
   "codemirror_mode": {
    "name": "ipython",
    "version": 3
   },
   "file_extension": ".py",
   "mimetype": "text/x-python",
   "name": "python",
   "nbconvert_exporter": "python",
   "pygments_lexer": "ipython3",
   "version": "3.8.20"
  }
 },
 "nbformat": 4,
 "nbformat_minor": 4
}
